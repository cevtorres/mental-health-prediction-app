{
 "cells": [
  {
   "cell_type": "markdown",
   "metadata": {},
   "source": [
    "# Mental Health Score"
   ]
  },
  {
   "cell_type": "code",
   "execution_count": 184,
   "metadata": {},
   "outputs": [],
   "source": [
    "import pandas as pd\n",
    "from sklearn.preprocessing import LabelEncoder\n",
    "import matplotlib.pyplot as plt\n",
    "import statsmodels.api as sm\n",
    "from sklearn.metrics import mean_absolute_error, mean_squared_error\n",
    "from sklearn.model_selection import train_test_split\n",
    "from sklearn.linear_model import LogisticRegression, LinearRegression\n",
    "from sklearn.ensemble import RandomForestClassifier\n",
    "import pickle\n",
    "import numpy as np"
   ]
  },
  {
   "cell_type": "code",
   "execution_count": 185,
   "metadata": {},
   "outputs": [],
   "source": [
    "data = pd.read_csv('digital_diet_mental_health.csv')"
   ]
  },
  {
   "cell_type": "markdown",
   "metadata": {},
   "source": [
    "# Check the type of each column to make sure they are all numerical"
   ]
  },
  {
   "cell_type": "code",
   "execution_count": 186,
   "metadata": {},
   "outputs": [
    {
     "name": "stdout",
     "output_type": "stream",
     "text": [
      "Column 'user_id' is not numerical.\n",
      "Column 'age' is numerical.\n",
      "Column 'gender' is not numerical.\n",
      "Column 'daily_screen_time_hours' is numerical.\n",
      "Column 'phone_usage_hours' is numerical.\n",
      "Column 'laptop_usage_hours' is numerical.\n",
      "Column 'tablet_usage_hours' is numerical.\n",
      "Column 'tv_usage_hours' is numerical.\n",
      "Column 'social_media_hours' is numerical.\n",
      "Column 'work_related_hours' is numerical.\n",
      "Column 'entertainment_hours' is numerical.\n",
      "Column 'gaming_hours' is numerical.\n",
      "Column 'sleep_duration_hours' is numerical.\n",
      "Column 'sleep_quality' is numerical.\n",
      "Column 'mood_rating' is numerical.\n",
      "Column 'stress_level' is numerical.\n",
      "Column 'physical_activity_hours_per_week' is numerical.\n",
      "Column 'location_type' is not numerical.\n",
      "Column 'mental_health_score' is numerical.\n",
      "Column 'uses_wellness_apps' is numerical.\n",
      "Column 'eats_healthy' is numerical.\n",
      "Column 'caffeine_intake_mg_per_day' is numerical.\n",
      "Column 'weekly_anxiety_score' is numerical.\n",
      "Column 'weekly_depression_score' is numerical.\n",
      "Column 'mindfulness_minutes_per_day' is numerical.\n"
     ]
    }
   ],
   "source": [
    "for column in data.columns:\n",
    "    if not pd.api.types.is_numeric_dtype(data[column]):\n",
    "        print(f\"Column '{column}' is not numerical.\")\n",
    "    else:\n",
    "        print(f\"Column '{column}' is numerical.\")"
   ]
  },
  {
   "cell_type": "markdown",
   "metadata": {},
   "source": [
    "## Create Model"
   ]
  },
  {
   "cell_type": "code",
   "execution_count": 259,
   "metadata": {},
   "outputs": [],
   "source": [
    "label_encoder = LabelEncoder()\n",
    "data['gender'] = label_encoder.fit_transform(data['gender'])\n",
    "data['location_type'] = label_encoder.fit_transform(data['location_type'])\n",
    "X = data.drop(['mental_health_score', 'user_id'], axis=1)\n",
    "#X = data.drop('user_id', axis=1)\n",
    "y = data['mental_health_score']"
   ]
  },
  {
   "cell_type": "code",
   "execution_count": 260,
   "metadata": {},
   "outputs": [],
   "source": [
    "X_train, X_test, y_train, y_test = train_test_split(X, y, random_state=202, test_size=0.25, shuffle=True)"
   ]
  },
  {
   "cell_type": "code",
   "execution_count": 261,
   "metadata": {},
   "outputs": [],
   "source": [
    "model = LinearRegression()\n",
    "results = model.fit(X_train, y_train)"
   ]
  },
  {
   "cell_type": "code",
   "execution_count": 262,
   "metadata": {},
   "outputs": [],
   "source": [
    "y_pred = model.predict(X_test)"
   ]
  },
  {
   "cell_type": "code",
   "execution_count": 264,
   "metadata": {},
   "outputs": [
    {
     "name": "stdout",
     "output_type": "stream",
     "text": [
      "The MAE is 15.803456185516326\n",
      "The RMSE is 18.101639844994555\n"
     ]
    }
   ],
   "source": [
    "# Model performance\n",
    "print(f'The MAE is {mean_absolute_error(y_test, y_pred)}')\n",
    "print(f'The RMSE is {np.sqrt(mean_squared_error(y_test, y_pred))}')"
   ]
  },
  {
   "cell_type": "code",
   "execution_count": 265,
   "metadata": {},
   "outputs": [
    {
     "name": "stdout",
     "output_type": "stream",
     "text": [
      "Pickling completed\n"
     ]
    }
   ],
   "source": [
    "# Saving the trained model\n",
    "with open('model.pkl', 'wb') as f:\n",
    "    pickle.dump(results, f)\n",
    "    print('Pickling completed')"
   ]
  },
  {
   "cell_type": "code",
   "execution_count": 266,
   "metadata": {},
   "outputs": [
    {
     "data": {
      "text/plain": [
       "count    2000.000000\n",
       "mean       10.753750\n",
       "std         7.340269\n",
       "min         0.000000\n",
       "25%         4.900000\n",
       "50%        10.400000\n",
       "75%        15.800000\n",
       "max        36.400000\n",
       "Name: mindfulness_minutes_per_day, dtype: float64"
      ]
     },
     "execution_count": 266,
     "metadata": {},
     "output_type": "execute_result"
    }
   ],
   "source": [
    "X[\"mindfulness_minutes_per_day\"].describe()"
   ]
  },
  {
   "cell_type": "code",
   "execution_count": 267,
   "metadata": {},
   "outputs": [
    {
     "data": {
      "text/plain": [
       "Index(['age', 'gender', 'daily_screen_time_hours', 'phone_usage_hours',\n",
       "       'laptop_usage_hours', 'tablet_usage_hours', 'tv_usage_hours',\n",
       "       'social_media_hours', 'work_related_hours', 'entertainment_hours',\n",
       "       'gaming_hours', 'sleep_duration_hours', 'sleep_quality', 'mood_rating',\n",
       "       'stress_level', 'physical_activity_hours_per_week', 'location_type',\n",
       "       'uses_wellness_apps', 'eats_healthy', 'caffeine_intake_mg_per_day',\n",
       "       'weekly_anxiety_score', 'weekly_depression_score',\n",
       "       'mindfulness_minutes_per_day'],\n",
       "      dtype='object')"
      ]
     },
     "execution_count": 267,
     "metadata": {},
     "output_type": "execute_result"
    }
   ],
   "source": [
    "X.columns"
   ]
  },
  {
   "cell_type": "code",
   "execution_count": 268,
   "metadata": {},
   "outputs": [
    {
     "data": {
      "text/plain": [
       "count    2000.000000\n",
       "mean       49.650500\n",
       "std        17.546717\n",
       "min        20.000000\n",
       "25%        35.000000\n",
       "50%        49.000000\n",
       "75%        64.250000\n",
       "max        80.000000\n",
       "Name: mental_health_score, dtype: float64"
      ]
     },
     "execution_count": 268,
     "metadata": {},
     "output_type": "execute_result"
    }
   ],
   "source": [
    "data['mental_health_score'].describe()"
   ]
  },
  {
   "cell_type": "code",
   "execution_count": null,
   "metadata": {},
   "outputs": [],
   "source": []
  },
  {
   "cell_type": "code",
   "execution_count": null,
   "metadata": {},
   "outputs": [],
   "source": []
  }
 ],
 "metadata": {
  "kernelspec": {
   "display_name": ".venv",
   "language": "python",
   "name": "python3"
  },
  "language_info": {
   "codemirror_mode": {
    "name": "ipython",
    "version": 3
   },
   "file_extension": ".py",
   "mimetype": "text/x-python",
   "name": "python",
   "nbconvert_exporter": "python",
   "pygments_lexer": "ipython3",
   "version": "3.9.1"
  }
 },
 "nbformat": 4,
 "nbformat_minor": 2
}
